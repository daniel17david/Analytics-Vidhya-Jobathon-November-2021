{
  "nbformat": 4,
  "nbformat_minor": 0,
  "metadata": {
    "colab": {
      "name": "DanielThommana_jobathon_nov2021_final.ipynb",
      "provenance": [],
      "collapsed_sections": []
    },
    "kernelspec": {
      "name": "python3",
      "display_name": "Python 3"
    },
    "language_info": {
      "name": "python"
    }
  },
  "cells": [
    {
      "cell_type": "code",
      "metadata": {
        "id": "UKXWNnFAtOu7"
      },
      "source": [
        "# Importing libraries\n",
        "import pandas as pd\n",
        "import numpy as np\n",
        "from sklearn.model_selection import train_test_split\n",
        "import warnings   \n",
        "warnings.filterwarnings(\"ignore\")"
      ],
      "execution_count": 1,
      "outputs": []
    },
    {
      "cell_type": "code",
      "metadata": {
        "id": "heAirGpGuhva"
      },
      "source": [
        "# Reading data\n",
        "train = pd.read_csv(\"train_MpHjUjU.csv\")\n",
        "test = pd.read_csv(\"test_hXY9mYw.csv\")\n"
      ],
      "execution_count": 2,
      "outputs": []
    },
    {
      "cell_type": "code",
      "metadata": {
        "colab": {
          "base_uri": "https://localhost:8080/",
          "height": 310
        },
        "id": "n7YwgOuiusEV",
        "outputId": "51a9f126-fb28-41a7-92c2-e42003821a77"
      },
      "source": [
        "train.head()"
      ],
      "execution_count": 3,
      "outputs": [
        {
          "output_type": "execute_result",
          "data": {
            "text/html": [
              "<div>\n",
              "<style scoped>\n",
              "    .dataframe tbody tr th:only-of-type {\n",
              "        vertical-align: middle;\n",
              "    }\n",
              "\n",
              "    .dataframe tbody tr th {\n",
              "        vertical-align: top;\n",
              "    }\n",
              "\n",
              "    .dataframe thead th {\n",
              "        text-align: right;\n",
              "    }\n",
              "</style>\n",
              "<table border=\"1\" class=\"dataframe\">\n",
              "  <thead>\n",
              "    <tr style=\"text-align: right;\">\n",
              "      <th></th>\n",
              "      <th>MMM-YY</th>\n",
              "      <th>Emp_ID</th>\n",
              "      <th>Age</th>\n",
              "      <th>Gender</th>\n",
              "      <th>City</th>\n",
              "      <th>Education_Level</th>\n",
              "      <th>Salary</th>\n",
              "      <th>Dateofjoining</th>\n",
              "      <th>LastWorkingDate</th>\n",
              "      <th>Joining Designation</th>\n",
              "      <th>Designation</th>\n",
              "      <th>Total Business Value</th>\n",
              "      <th>Quarterly Rating</th>\n",
              "    </tr>\n",
              "  </thead>\n",
              "  <tbody>\n",
              "    <tr>\n",
              "      <th>0</th>\n",
              "      <td>2016-01-01</td>\n",
              "      <td>1</td>\n",
              "      <td>28</td>\n",
              "      <td>Male</td>\n",
              "      <td>C23</td>\n",
              "      <td>Master</td>\n",
              "      <td>57387</td>\n",
              "      <td>2015-12-24</td>\n",
              "      <td>NaN</td>\n",
              "      <td>1</td>\n",
              "      <td>1</td>\n",
              "      <td>2381060</td>\n",
              "      <td>2</td>\n",
              "    </tr>\n",
              "    <tr>\n",
              "      <th>1</th>\n",
              "      <td>2016-02-01</td>\n",
              "      <td>1</td>\n",
              "      <td>28</td>\n",
              "      <td>Male</td>\n",
              "      <td>C23</td>\n",
              "      <td>Master</td>\n",
              "      <td>57387</td>\n",
              "      <td>2015-12-24</td>\n",
              "      <td>NaN</td>\n",
              "      <td>1</td>\n",
              "      <td>1</td>\n",
              "      <td>-665480</td>\n",
              "      <td>2</td>\n",
              "    </tr>\n",
              "    <tr>\n",
              "      <th>2</th>\n",
              "      <td>2016-03-01</td>\n",
              "      <td>1</td>\n",
              "      <td>28</td>\n",
              "      <td>Male</td>\n",
              "      <td>C23</td>\n",
              "      <td>Master</td>\n",
              "      <td>57387</td>\n",
              "      <td>2015-12-24</td>\n",
              "      <td>2016-03-11</td>\n",
              "      <td>1</td>\n",
              "      <td>1</td>\n",
              "      <td>0</td>\n",
              "      <td>2</td>\n",
              "    </tr>\n",
              "    <tr>\n",
              "      <th>3</th>\n",
              "      <td>2017-11-01</td>\n",
              "      <td>2</td>\n",
              "      <td>31</td>\n",
              "      <td>Male</td>\n",
              "      <td>C7</td>\n",
              "      <td>Master</td>\n",
              "      <td>67016</td>\n",
              "      <td>2017-11-06</td>\n",
              "      <td>NaN</td>\n",
              "      <td>2</td>\n",
              "      <td>2</td>\n",
              "      <td>0</td>\n",
              "      <td>1</td>\n",
              "    </tr>\n",
              "    <tr>\n",
              "      <th>4</th>\n",
              "      <td>2017-12-01</td>\n",
              "      <td>2</td>\n",
              "      <td>31</td>\n",
              "      <td>Male</td>\n",
              "      <td>C7</td>\n",
              "      <td>Master</td>\n",
              "      <td>67016</td>\n",
              "      <td>2017-11-06</td>\n",
              "      <td>NaN</td>\n",
              "      <td>2</td>\n",
              "      <td>2</td>\n",
              "      <td>0</td>\n",
              "      <td>1</td>\n",
              "    </tr>\n",
              "  </tbody>\n",
              "</table>\n",
              "</div>"
            ],
            "text/plain": [
              "       MMM-YY  Emp_ID  Age  ... Designation Total Business Value Quarterly Rating\n",
              "0  2016-01-01       1   28  ...           1              2381060                2\n",
              "1  2016-02-01       1   28  ...           1              -665480                2\n",
              "2  2016-03-01       1   28  ...           1                    0                2\n",
              "3  2017-11-01       2   31  ...           2                    0                1\n",
              "4  2017-12-01       2   31  ...           2                    0                1\n",
              "\n",
              "[5 rows x 13 columns]"
            ]
          },
          "metadata": {},
          "execution_count": 3
        }
      ]
    },
    {
      "cell_type": "code",
      "metadata": {
        "colab": {
          "base_uri": "https://localhost:8080/",
          "height": 206
        },
        "id": "7OvD1HbOu0W0",
        "outputId": "aa13a7c2-c66f-4fc2-c9cd-36bd81c7e2a1"
      },
      "source": [
        "test.head()"
      ],
      "execution_count": 4,
      "outputs": [
        {
          "output_type": "execute_result",
          "data": {
            "text/html": [
              "<div>\n",
              "<style scoped>\n",
              "    .dataframe tbody tr th:only-of-type {\n",
              "        vertical-align: middle;\n",
              "    }\n",
              "\n",
              "    .dataframe tbody tr th {\n",
              "        vertical-align: top;\n",
              "    }\n",
              "\n",
              "    .dataframe thead th {\n",
              "        text-align: right;\n",
              "    }\n",
              "</style>\n",
              "<table border=\"1\" class=\"dataframe\">\n",
              "  <thead>\n",
              "    <tr style=\"text-align: right;\">\n",
              "      <th></th>\n",
              "      <th>Emp_ID</th>\n",
              "    </tr>\n",
              "  </thead>\n",
              "  <tbody>\n",
              "    <tr>\n",
              "      <th>0</th>\n",
              "      <td>394</td>\n",
              "    </tr>\n",
              "    <tr>\n",
              "      <th>1</th>\n",
              "      <td>173</td>\n",
              "    </tr>\n",
              "    <tr>\n",
              "      <th>2</th>\n",
              "      <td>1090</td>\n",
              "    </tr>\n",
              "    <tr>\n",
              "      <th>3</th>\n",
              "      <td>840</td>\n",
              "    </tr>\n",
              "    <tr>\n",
              "      <th>4</th>\n",
              "      <td>308</td>\n",
              "    </tr>\n",
              "  </tbody>\n",
              "</table>\n",
              "</div>"
            ],
            "text/plain": [
              "   Emp_ID\n",
              "0     394\n",
              "1     173\n",
              "2    1090\n",
              "3     840\n",
              "4     308"
            ]
          },
          "metadata": {},
          "execution_count": 4
        }
      ]
    },
    {
      "cell_type": "code",
      "metadata": {
        "colab": {
          "base_uri": "https://localhost:8080/"
        },
        "id": "e2Sh_aZ_vRHb",
        "outputId": "f7b2fe57-f0b5-4f18-bcb5-a358c182d791"
      },
      "source": [
        "# Checking for missing values\n",
        "train.isnull().sum()\n"
      ],
      "execution_count": 5,
      "outputs": [
        {
          "output_type": "execute_result",
          "data": {
            "text/plain": [
              "MMM-YY                      0\n",
              "Emp_ID                      0\n",
              "Age                         0\n",
              "Gender                      0\n",
              "City                        0\n",
              "Education_Level             0\n",
              "Salary                      0\n",
              "Dateofjoining               0\n",
              "LastWorkingDate         17488\n",
              "Joining Designation         0\n",
              "Designation                 0\n",
              "Total Business Value        0\n",
              "Quarterly Rating            0\n",
              "dtype: int64"
            ]
          },
          "metadata": {},
          "execution_count": 5
        }
      ]
    },
    {
      "cell_type": "code",
      "metadata": {
        "colab": {
          "base_uri": "https://localhost:8080/"
        },
        "id": "Ld_LcKm_vsas",
        "outputId": "7aa0ed08-3d48-4fa8-96cb-624c1e39b814"
      },
      "source": [
        "# Typecasting variables\n",
        "train.dtypes"
      ],
      "execution_count": 6,
      "outputs": [
        {
          "output_type": "execute_result",
          "data": {
            "text/plain": [
              "MMM-YY                  object\n",
              "Emp_ID                   int64\n",
              "Age                      int64\n",
              "Gender                  object\n",
              "City                    object\n",
              "Education_Level         object\n",
              "Salary                   int64\n",
              "Dateofjoining           object\n",
              "LastWorkingDate         object\n",
              "Joining Designation      int64\n",
              "Designation              int64\n",
              "Total Business Value     int64\n",
              "Quarterly Rating         int64\n",
              "dtype: object"
            ]
          },
          "metadata": {},
          "execution_count": 6
        }
      ]
    },
    {
      "cell_type": "code",
      "metadata": {
        "id": "GWzdkmJ5wlEO"
      },
      "source": [
        "train['Gender'] = train['Gender'].astype('category')\n",
        "train['City'] = train['City'].astype('category')\n",
        "train['Education_Level'] = train['Education_Level'].astype('category')\n"
      ],
      "execution_count": 7,
      "outputs": []
    },
    {
      "cell_type": "code",
      "metadata": {
        "id": "ktCp2aB9xXTn"
      },
      "source": [
        "train['MMM-YY']= pd.to_datetime(train['MMM-YY'])\n",
        "train['Dateofjoining']= pd.to_datetime(train['Dateofjoining'])\n",
        "train['LastWorkingDate']= pd.to_datetime(train['LastWorkingDate'])\n"
      ],
      "execution_count": 8,
      "outputs": []
    },
    {
      "cell_type": "code",
      "metadata": {
        "colab": {
          "base_uri": "https://localhost:8080/"
        },
        "id": "TVOajnTJy58w",
        "outputId": "f9d4267f-e412-4141-a072-435304b63381"
      },
      "source": [
        "train.dtypes"
      ],
      "execution_count": 9,
      "outputs": [
        {
          "output_type": "execute_result",
          "data": {
            "text/plain": [
              "MMM-YY                  datetime64[ns]\n",
              "Emp_ID                           int64\n",
              "Age                              int64\n",
              "Gender                        category\n",
              "City                          category\n",
              "Education_Level               category\n",
              "Salary                           int64\n",
              "Dateofjoining           datetime64[ns]\n",
              "LastWorkingDate         datetime64[ns]\n",
              "Joining Designation              int64\n",
              "Designation                      int64\n",
              "Total Business Value             int64\n",
              "Quarterly Rating                 int64\n",
              "dtype: object"
            ]
          },
          "metadata": {},
          "execution_count": 9
        }
      ]
    },
    {
      "cell_type": "code",
      "metadata": {
        "colab": {
          "base_uri": "https://localhost:8080/",
          "height": 310
        },
        "id": "uQLL1t5EzTnu",
        "outputId": "9cbe5619-03a1-4299-92f4-a0a2ab3e4e3f"
      },
      "source": [
        "train.head()"
      ],
      "execution_count": 10,
      "outputs": [
        {
          "output_type": "execute_result",
          "data": {
            "text/html": [
              "<div>\n",
              "<style scoped>\n",
              "    .dataframe tbody tr th:only-of-type {\n",
              "        vertical-align: middle;\n",
              "    }\n",
              "\n",
              "    .dataframe tbody tr th {\n",
              "        vertical-align: top;\n",
              "    }\n",
              "\n",
              "    .dataframe thead th {\n",
              "        text-align: right;\n",
              "    }\n",
              "</style>\n",
              "<table border=\"1\" class=\"dataframe\">\n",
              "  <thead>\n",
              "    <tr style=\"text-align: right;\">\n",
              "      <th></th>\n",
              "      <th>MMM-YY</th>\n",
              "      <th>Emp_ID</th>\n",
              "      <th>Age</th>\n",
              "      <th>Gender</th>\n",
              "      <th>City</th>\n",
              "      <th>Education_Level</th>\n",
              "      <th>Salary</th>\n",
              "      <th>Dateofjoining</th>\n",
              "      <th>LastWorkingDate</th>\n",
              "      <th>Joining Designation</th>\n",
              "      <th>Designation</th>\n",
              "      <th>Total Business Value</th>\n",
              "      <th>Quarterly Rating</th>\n",
              "    </tr>\n",
              "  </thead>\n",
              "  <tbody>\n",
              "    <tr>\n",
              "      <th>0</th>\n",
              "      <td>2016-01-01</td>\n",
              "      <td>1</td>\n",
              "      <td>28</td>\n",
              "      <td>Male</td>\n",
              "      <td>C23</td>\n",
              "      <td>Master</td>\n",
              "      <td>57387</td>\n",
              "      <td>2015-12-24</td>\n",
              "      <td>NaT</td>\n",
              "      <td>1</td>\n",
              "      <td>1</td>\n",
              "      <td>2381060</td>\n",
              "      <td>2</td>\n",
              "    </tr>\n",
              "    <tr>\n",
              "      <th>1</th>\n",
              "      <td>2016-02-01</td>\n",
              "      <td>1</td>\n",
              "      <td>28</td>\n",
              "      <td>Male</td>\n",
              "      <td>C23</td>\n",
              "      <td>Master</td>\n",
              "      <td>57387</td>\n",
              "      <td>2015-12-24</td>\n",
              "      <td>NaT</td>\n",
              "      <td>1</td>\n",
              "      <td>1</td>\n",
              "      <td>-665480</td>\n",
              "      <td>2</td>\n",
              "    </tr>\n",
              "    <tr>\n",
              "      <th>2</th>\n",
              "      <td>2016-03-01</td>\n",
              "      <td>1</td>\n",
              "      <td>28</td>\n",
              "      <td>Male</td>\n",
              "      <td>C23</td>\n",
              "      <td>Master</td>\n",
              "      <td>57387</td>\n",
              "      <td>2015-12-24</td>\n",
              "      <td>2016-03-11</td>\n",
              "      <td>1</td>\n",
              "      <td>1</td>\n",
              "      <td>0</td>\n",
              "      <td>2</td>\n",
              "    </tr>\n",
              "    <tr>\n",
              "      <th>3</th>\n",
              "      <td>2017-11-01</td>\n",
              "      <td>2</td>\n",
              "      <td>31</td>\n",
              "      <td>Male</td>\n",
              "      <td>C7</td>\n",
              "      <td>Master</td>\n",
              "      <td>67016</td>\n",
              "      <td>2017-11-06</td>\n",
              "      <td>NaT</td>\n",
              "      <td>2</td>\n",
              "      <td>2</td>\n",
              "      <td>0</td>\n",
              "      <td>1</td>\n",
              "    </tr>\n",
              "    <tr>\n",
              "      <th>4</th>\n",
              "      <td>2017-12-01</td>\n",
              "      <td>2</td>\n",
              "      <td>31</td>\n",
              "      <td>Male</td>\n",
              "      <td>C7</td>\n",
              "      <td>Master</td>\n",
              "      <td>67016</td>\n",
              "      <td>2017-11-06</td>\n",
              "      <td>NaT</td>\n",
              "      <td>2</td>\n",
              "      <td>2</td>\n",
              "      <td>0</td>\n",
              "      <td>1</td>\n",
              "    </tr>\n",
              "  </tbody>\n",
              "</table>\n",
              "</div>"
            ],
            "text/plain": [
              "      MMM-YY  Emp_ID  Age  ... Designation Total Business Value Quarterly Rating\n",
              "0 2016-01-01       1   28  ...           1              2381060                2\n",
              "1 2016-02-01       1   28  ...           1              -665480                2\n",
              "2 2016-03-01       1   28  ...           1                    0                2\n",
              "3 2017-11-01       2   31  ...           2                    0                1\n",
              "4 2017-12-01       2   31  ...           2                    0                1\n",
              "\n",
              "[5 rows x 13 columns]"
            ]
          },
          "metadata": {},
          "execution_count": 10
        }
      ]
    },
    {
      "cell_type": "code",
      "metadata": {
        "colab": {
          "base_uri": "https://localhost:8080/",
          "height": 237
        },
        "id": "sQD2U3xk0cjd",
        "outputId": "7ea1bdac-139c-4c4f-ce55-0668490bb429"
      },
      "source": [
        "# Total business value generated by each employee\n",
        "total_business_value = train.groupby('Emp_ID').agg({'Total Business Value':'sum'})\n",
        "total_business_value.head()"
      ],
      "execution_count": 11,
      "outputs": [
        {
          "output_type": "execute_result",
          "data": {
            "text/html": [
              "<div>\n",
              "<style scoped>\n",
              "    .dataframe tbody tr th:only-of-type {\n",
              "        vertical-align: middle;\n",
              "    }\n",
              "\n",
              "    .dataframe tbody tr th {\n",
              "        vertical-align: top;\n",
              "    }\n",
              "\n",
              "    .dataframe thead th {\n",
              "        text-align: right;\n",
              "    }\n",
              "</style>\n",
              "<table border=\"1\" class=\"dataframe\">\n",
              "  <thead>\n",
              "    <tr style=\"text-align: right;\">\n",
              "      <th></th>\n",
              "      <th>Total Business Value</th>\n",
              "    </tr>\n",
              "    <tr>\n",
              "      <th>Emp_ID</th>\n",
              "      <th></th>\n",
              "    </tr>\n",
              "  </thead>\n",
              "  <tbody>\n",
              "    <tr>\n",
              "      <th>1</th>\n",
              "      <td>1715580</td>\n",
              "    </tr>\n",
              "    <tr>\n",
              "      <th>2</th>\n",
              "      <td>0</td>\n",
              "    </tr>\n",
              "    <tr>\n",
              "      <th>4</th>\n",
              "      <td>350000</td>\n",
              "    </tr>\n",
              "    <tr>\n",
              "      <th>5</th>\n",
              "      <td>120360</td>\n",
              "    </tr>\n",
              "    <tr>\n",
              "      <th>6</th>\n",
              "      <td>1265000</td>\n",
              "    </tr>\n",
              "  </tbody>\n",
              "</table>\n",
              "</div>"
            ],
            "text/plain": [
              "        Total Business Value\n",
              "Emp_ID                      \n",
              "1                    1715580\n",
              "2                          0\n",
              "4                     350000\n",
              "5                     120360\n",
              "6                    1265000"
            ]
          },
          "metadata": {},
          "execution_count": 11
        }
      ]
    },
    {
      "cell_type": "code",
      "metadata": {
        "colab": {
          "base_uri": "https://localhost:8080/",
          "height": 310
        },
        "id": "9NH-HLGn1vnF",
        "outputId": "ef3b9283-88b2-4b65-abd1-2bad5ec2839e"
      },
      "source": [
        "# Keeping only 1 entry per employee which is the last reprting date\n",
        "train = train.sort_values(by=[\"Emp_ID\", \"MMM-YY\"])\n",
        "train = train.drop_duplicates(subset=['Emp_ID'], keep='last')\n",
        "train.head()"
      ],
      "execution_count": 12,
      "outputs": [
        {
          "output_type": "execute_result",
          "data": {
            "text/html": [
              "<div>\n",
              "<style scoped>\n",
              "    .dataframe tbody tr th:only-of-type {\n",
              "        vertical-align: middle;\n",
              "    }\n",
              "\n",
              "    .dataframe tbody tr th {\n",
              "        vertical-align: top;\n",
              "    }\n",
              "\n",
              "    .dataframe thead th {\n",
              "        text-align: right;\n",
              "    }\n",
              "</style>\n",
              "<table border=\"1\" class=\"dataframe\">\n",
              "  <thead>\n",
              "    <tr style=\"text-align: right;\">\n",
              "      <th></th>\n",
              "      <th>MMM-YY</th>\n",
              "      <th>Emp_ID</th>\n",
              "      <th>Age</th>\n",
              "      <th>Gender</th>\n",
              "      <th>City</th>\n",
              "      <th>Education_Level</th>\n",
              "      <th>Salary</th>\n",
              "      <th>Dateofjoining</th>\n",
              "      <th>LastWorkingDate</th>\n",
              "      <th>Joining Designation</th>\n",
              "      <th>Designation</th>\n",
              "      <th>Total Business Value</th>\n",
              "      <th>Quarterly Rating</th>\n",
              "    </tr>\n",
              "  </thead>\n",
              "  <tbody>\n",
              "    <tr>\n",
              "      <th>2</th>\n",
              "      <td>2016-03-01</td>\n",
              "      <td>1</td>\n",
              "      <td>28</td>\n",
              "      <td>Male</td>\n",
              "      <td>C23</td>\n",
              "      <td>Master</td>\n",
              "      <td>57387</td>\n",
              "      <td>2015-12-24</td>\n",
              "      <td>2016-03-11</td>\n",
              "      <td>1</td>\n",
              "      <td>1</td>\n",
              "      <td>0</td>\n",
              "      <td>2</td>\n",
              "    </tr>\n",
              "    <tr>\n",
              "      <th>4</th>\n",
              "      <td>2017-12-01</td>\n",
              "      <td>2</td>\n",
              "      <td>31</td>\n",
              "      <td>Male</td>\n",
              "      <td>C7</td>\n",
              "      <td>Master</td>\n",
              "      <td>67016</td>\n",
              "      <td>2017-11-06</td>\n",
              "      <td>NaT</td>\n",
              "      <td>2</td>\n",
              "      <td>2</td>\n",
              "      <td>0</td>\n",
              "      <td>1</td>\n",
              "    </tr>\n",
              "    <tr>\n",
              "      <th>9</th>\n",
              "      <td>2017-04-01</td>\n",
              "      <td>4</td>\n",
              "      <td>43</td>\n",
              "      <td>Male</td>\n",
              "      <td>C13</td>\n",
              "      <td>Master</td>\n",
              "      <td>65603</td>\n",
              "      <td>2016-12-07</td>\n",
              "      <td>2017-04-27</td>\n",
              "      <td>2</td>\n",
              "      <td>2</td>\n",
              "      <td>0</td>\n",
              "      <td>1</td>\n",
              "    </tr>\n",
              "    <tr>\n",
              "      <th>12</th>\n",
              "      <td>2016-03-01</td>\n",
              "      <td>5</td>\n",
              "      <td>29</td>\n",
              "      <td>Male</td>\n",
              "      <td>C9</td>\n",
              "      <td>College</td>\n",
              "      <td>46368</td>\n",
              "      <td>2016-01-09</td>\n",
              "      <td>2016-03-07</td>\n",
              "      <td>1</td>\n",
              "      <td>1</td>\n",
              "      <td>0</td>\n",
              "      <td>1</td>\n",
              "    </tr>\n",
              "    <tr>\n",
              "      <th>17</th>\n",
              "      <td>2017-12-01</td>\n",
              "      <td>6</td>\n",
              "      <td>31</td>\n",
              "      <td>Female</td>\n",
              "      <td>C11</td>\n",
              "      <td>Bachelor</td>\n",
              "      <td>78728</td>\n",
              "      <td>2017-07-31</td>\n",
              "      <td>NaT</td>\n",
              "      <td>3</td>\n",
              "      <td>3</td>\n",
              "      <td>0</td>\n",
              "      <td>2</td>\n",
              "    </tr>\n",
              "  </tbody>\n",
              "</table>\n",
              "</div>"
            ],
            "text/plain": [
              "       MMM-YY  Emp_ID  Age  ... Designation Total Business Value Quarterly Rating\n",
              "2  2016-03-01       1   28  ...           1                    0                2\n",
              "4  2017-12-01       2   31  ...           2                    0                1\n",
              "9  2017-04-01       4   43  ...           2                    0                1\n",
              "12 2016-03-01       5   29  ...           1                    0                1\n",
              "17 2017-12-01       6   31  ...           3                    0                2\n",
              "\n",
              "[5 rows x 13 columns]"
            ]
          },
          "metadata": {},
          "execution_count": 12
        }
      ]
    },
    {
      "cell_type": "code",
      "metadata": {
        "colab": {
          "base_uri": "https://localhost:8080/",
          "height": 206
        },
        "id": "efGD99Nt4VyT",
        "outputId": "6779b01b-2df3-4f44-a11b-5b3f3087186b"
      },
      "source": [
        "# Generating features\n",
        "train['Emp_Promotion']=train['Designation']-train['Joining Designation']\n",
        "train['Emp_Experience'] = ((train['MMM-YY']-train['Dateofjoining'])/ np.timedelta64(1, 'D'))/365\n",
        "train.LastWorkingDate.fillna(0,inplace=True)\n",
        "train['Attrition'] = train['LastWorkingDate'].apply(lambda x: 0 if (x==0) else 1)\n",
        "train=train.drop(['Total Business Value','Designation','Joining Designation','MMM-YY','Dateofjoining','LastWorkingDate'], axis=1)\n",
        "train=train.merge(total_business_value,on='Emp_ID')\n",
        "train.head()\n"
      ],
      "execution_count": 13,
      "outputs": [
        {
          "output_type": "execute_result",
          "data": {
            "text/html": [
              "<div>\n",
              "<style scoped>\n",
              "    .dataframe tbody tr th:only-of-type {\n",
              "        vertical-align: middle;\n",
              "    }\n",
              "\n",
              "    .dataframe tbody tr th {\n",
              "        vertical-align: top;\n",
              "    }\n",
              "\n",
              "    .dataframe thead th {\n",
              "        text-align: right;\n",
              "    }\n",
              "</style>\n",
              "<table border=\"1\" class=\"dataframe\">\n",
              "  <thead>\n",
              "    <tr style=\"text-align: right;\">\n",
              "      <th></th>\n",
              "      <th>Emp_ID</th>\n",
              "      <th>Age</th>\n",
              "      <th>Gender</th>\n",
              "      <th>City</th>\n",
              "      <th>Education_Level</th>\n",
              "      <th>Salary</th>\n",
              "      <th>Quarterly Rating</th>\n",
              "      <th>Emp_Promotion</th>\n",
              "      <th>Emp_Experience</th>\n",
              "      <th>Attrition</th>\n",
              "      <th>Total Business Value</th>\n",
              "    </tr>\n",
              "  </thead>\n",
              "  <tbody>\n",
              "    <tr>\n",
              "      <th>0</th>\n",
              "      <td>1</td>\n",
              "      <td>28</td>\n",
              "      <td>Male</td>\n",
              "      <td>C23</td>\n",
              "      <td>Master</td>\n",
              "      <td>57387</td>\n",
              "      <td>2</td>\n",
              "      <td>0</td>\n",
              "      <td>0.186301</td>\n",
              "      <td>1</td>\n",
              "      <td>1715580</td>\n",
              "    </tr>\n",
              "    <tr>\n",
              "      <th>1</th>\n",
              "      <td>2</td>\n",
              "      <td>31</td>\n",
              "      <td>Male</td>\n",
              "      <td>C7</td>\n",
              "      <td>Master</td>\n",
              "      <td>67016</td>\n",
              "      <td>1</td>\n",
              "      <td>0</td>\n",
              "      <td>0.068493</td>\n",
              "      <td>0</td>\n",
              "      <td>0</td>\n",
              "    </tr>\n",
              "    <tr>\n",
              "      <th>2</th>\n",
              "      <td>4</td>\n",
              "      <td>43</td>\n",
              "      <td>Male</td>\n",
              "      <td>C13</td>\n",
              "      <td>Master</td>\n",
              "      <td>65603</td>\n",
              "      <td>1</td>\n",
              "      <td>0</td>\n",
              "      <td>0.315068</td>\n",
              "      <td>1</td>\n",
              "      <td>350000</td>\n",
              "    </tr>\n",
              "    <tr>\n",
              "      <th>3</th>\n",
              "      <td>5</td>\n",
              "      <td>29</td>\n",
              "      <td>Male</td>\n",
              "      <td>C9</td>\n",
              "      <td>College</td>\n",
              "      <td>46368</td>\n",
              "      <td>1</td>\n",
              "      <td>0</td>\n",
              "      <td>0.142466</td>\n",
              "      <td>1</td>\n",
              "      <td>120360</td>\n",
              "    </tr>\n",
              "    <tr>\n",
              "      <th>4</th>\n",
              "      <td>6</td>\n",
              "      <td>31</td>\n",
              "      <td>Female</td>\n",
              "      <td>C11</td>\n",
              "      <td>Bachelor</td>\n",
              "      <td>78728</td>\n",
              "      <td>2</td>\n",
              "      <td>0</td>\n",
              "      <td>0.336986</td>\n",
              "      <td>0</td>\n",
              "      <td>1265000</td>\n",
              "    </tr>\n",
              "  </tbody>\n",
              "</table>\n",
              "</div>"
            ],
            "text/plain": [
              "   Emp_ID  Age  Gender  ... Emp_Experience Attrition  Total Business Value\n",
              "0       1   28    Male  ...       0.186301         1               1715580\n",
              "1       2   31    Male  ...       0.068493         0                     0\n",
              "2       4   43    Male  ...       0.315068         1                350000\n",
              "3       5   29    Male  ...       0.142466         1                120360\n",
              "4       6   31  Female  ...       0.336986         0               1265000\n",
              "\n",
              "[5 rows x 11 columns]"
            ]
          },
          "metadata": {},
          "execution_count": 13
        }
      ]
    },
    {
      "cell_type": "code",
      "metadata": {
        "colab": {
          "base_uri": "https://localhost:8080/",
          "height": 261
        },
        "id": "x4sg3zZ4Kogl",
        "outputId": "d28ca22a-b2b2-43c7-9d9b-0e392e1226a2"
      },
      "source": [
        "# Handling categorical variables\n",
        "train = pd.get_dummies(train)\n",
        "train.head()"
      ],
      "execution_count": 14,
      "outputs": [
        {
          "output_type": "execute_result",
          "data": {
            "text/html": [
              "<div>\n",
              "<style scoped>\n",
              "    .dataframe tbody tr th:only-of-type {\n",
              "        vertical-align: middle;\n",
              "    }\n",
              "\n",
              "    .dataframe tbody tr th {\n",
              "        vertical-align: top;\n",
              "    }\n",
              "\n",
              "    .dataframe thead th {\n",
              "        text-align: right;\n",
              "    }\n",
              "</style>\n",
              "<table border=\"1\" class=\"dataframe\">\n",
              "  <thead>\n",
              "    <tr style=\"text-align: right;\">\n",
              "      <th></th>\n",
              "      <th>Emp_ID</th>\n",
              "      <th>Age</th>\n",
              "      <th>Salary</th>\n",
              "      <th>Quarterly Rating</th>\n",
              "      <th>Emp_Promotion</th>\n",
              "      <th>Emp_Experience</th>\n",
              "      <th>Attrition</th>\n",
              "      <th>Total Business Value</th>\n",
              "      <th>Gender_Female</th>\n",
              "      <th>Gender_Male</th>\n",
              "      <th>City_C1</th>\n",
              "      <th>City_C10</th>\n",
              "      <th>City_C11</th>\n",
              "      <th>City_C12</th>\n",
              "      <th>City_C13</th>\n",
              "      <th>City_C14</th>\n",
              "      <th>City_C15</th>\n",
              "      <th>City_C16</th>\n",
              "      <th>City_C17</th>\n",
              "      <th>City_C18</th>\n",
              "      <th>City_C19</th>\n",
              "      <th>City_C2</th>\n",
              "      <th>City_C20</th>\n",
              "      <th>City_C21</th>\n",
              "      <th>City_C22</th>\n",
              "      <th>City_C23</th>\n",
              "      <th>City_C24</th>\n",
              "      <th>City_C25</th>\n",
              "      <th>City_C26</th>\n",
              "      <th>City_C27</th>\n",
              "      <th>City_C28</th>\n",
              "      <th>City_C29</th>\n",
              "      <th>City_C3</th>\n",
              "      <th>City_C4</th>\n",
              "      <th>City_C5</th>\n",
              "      <th>City_C6</th>\n",
              "      <th>City_C7</th>\n",
              "      <th>City_C8</th>\n",
              "      <th>City_C9</th>\n",
              "      <th>Education_Level_Bachelor</th>\n",
              "      <th>Education_Level_College</th>\n",
              "      <th>Education_Level_Master</th>\n",
              "    </tr>\n",
              "  </thead>\n",
              "  <tbody>\n",
              "    <tr>\n",
              "      <th>0</th>\n",
              "      <td>1</td>\n",
              "      <td>28</td>\n",
              "      <td>57387</td>\n",
              "      <td>2</td>\n",
              "      <td>0</td>\n",
              "      <td>0.186301</td>\n",
              "      <td>1</td>\n",
              "      <td>1715580</td>\n",
              "      <td>0</td>\n",
              "      <td>1</td>\n",
              "      <td>0</td>\n",
              "      <td>0</td>\n",
              "      <td>0</td>\n",
              "      <td>0</td>\n",
              "      <td>0</td>\n",
              "      <td>0</td>\n",
              "      <td>0</td>\n",
              "      <td>0</td>\n",
              "      <td>0</td>\n",
              "      <td>0</td>\n",
              "      <td>0</td>\n",
              "      <td>0</td>\n",
              "      <td>0</td>\n",
              "      <td>0</td>\n",
              "      <td>0</td>\n",
              "      <td>1</td>\n",
              "      <td>0</td>\n",
              "      <td>0</td>\n",
              "      <td>0</td>\n",
              "      <td>0</td>\n",
              "      <td>0</td>\n",
              "      <td>0</td>\n",
              "      <td>0</td>\n",
              "      <td>0</td>\n",
              "      <td>0</td>\n",
              "      <td>0</td>\n",
              "      <td>0</td>\n",
              "      <td>0</td>\n",
              "      <td>0</td>\n",
              "      <td>0</td>\n",
              "      <td>0</td>\n",
              "      <td>1</td>\n",
              "    </tr>\n",
              "    <tr>\n",
              "      <th>1</th>\n",
              "      <td>2</td>\n",
              "      <td>31</td>\n",
              "      <td>67016</td>\n",
              "      <td>1</td>\n",
              "      <td>0</td>\n",
              "      <td>0.068493</td>\n",
              "      <td>0</td>\n",
              "      <td>0</td>\n",
              "      <td>0</td>\n",
              "      <td>1</td>\n",
              "      <td>0</td>\n",
              "      <td>0</td>\n",
              "      <td>0</td>\n",
              "      <td>0</td>\n",
              "      <td>0</td>\n",
              "      <td>0</td>\n",
              "      <td>0</td>\n",
              "      <td>0</td>\n",
              "      <td>0</td>\n",
              "      <td>0</td>\n",
              "      <td>0</td>\n",
              "      <td>0</td>\n",
              "      <td>0</td>\n",
              "      <td>0</td>\n",
              "      <td>0</td>\n",
              "      <td>0</td>\n",
              "      <td>0</td>\n",
              "      <td>0</td>\n",
              "      <td>0</td>\n",
              "      <td>0</td>\n",
              "      <td>0</td>\n",
              "      <td>0</td>\n",
              "      <td>0</td>\n",
              "      <td>0</td>\n",
              "      <td>0</td>\n",
              "      <td>0</td>\n",
              "      <td>1</td>\n",
              "      <td>0</td>\n",
              "      <td>0</td>\n",
              "      <td>0</td>\n",
              "      <td>0</td>\n",
              "      <td>1</td>\n",
              "    </tr>\n",
              "    <tr>\n",
              "      <th>2</th>\n",
              "      <td>4</td>\n",
              "      <td>43</td>\n",
              "      <td>65603</td>\n",
              "      <td>1</td>\n",
              "      <td>0</td>\n",
              "      <td>0.315068</td>\n",
              "      <td>1</td>\n",
              "      <td>350000</td>\n",
              "      <td>0</td>\n",
              "      <td>1</td>\n",
              "      <td>0</td>\n",
              "      <td>0</td>\n",
              "      <td>0</td>\n",
              "      <td>0</td>\n",
              "      <td>1</td>\n",
              "      <td>0</td>\n",
              "      <td>0</td>\n",
              "      <td>0</td>\n",
              "      <td>0</td>\n",
              "      <td>0</td>\n",
              "      <td>0</td>\n",
              "      <td>0</td>\n",
              "      <td>0</td>\n",
              "      <td>0</td>\n",
              "      <td>0</td>\n",
              "      <td>0</td>\n",
              "      <td>0</td>\n",
              "      <td>0</td>\n",
              "      <td>0</td>\n",
              "      <td>0</td>\n",
              "      <td>0</td>\n",
              "      <td>0</td>\n",
              "      <td>0</td>\n",
              "      <td>0</td>\n",
              "      <td>0</td>\n",
              "      <td>0</td>\n",
              "      <td>0</td>\n",
              "      <td>0</td>\n",
              "      <td>0</td>\n",
              "      <td>0</td>\n",
              "      <td>0</td>\n",
              "      <td>1</td>\n",
              "    </tr>\n",
              "    <tr>\n",
              "      <th>3</th>\n",
              "      <td>5</td>\n",
              "      <td>29</td>\n",
              "      <td>46368</td>\n",
              "      <td>1</td>\n",
              "      <td>0</td>\n",
              "      <td>0.142466</td>\n",
              "      <td>1</td>\n",
              "      <td>120360</td>\n",
              "      <td>0</td>\n",
              "      <td>1</td>\n",
              "      <td>0</td>\n",
              "      <td>0</td>\n",
              "      <td>0</td>\n",
              "      <td>0</td>\n",
              "      <td>0</td>\n",
              "      <td>0</td>\n",
              "      <td>0</td>\n",
              "      <td>0</td>\n",
              "      <td>0</td>\n",
              "      <td>0</td>\n",
              "      <td>0</td>\n",
              "      <td>0</td>\n",
              "      <td>0</td>\n",
              "      <td>0</td>\n",
              "      <td>0</td>\n",
              "      <td>0</td>\n",
              "      <td>0</td>\n",
              "      <td>0</td>\n",
              "      <td>0</td>\n",
              "      <td>0</td>\n",
              "      <td>0</td>\n",
              "      <td>0</td>\n",
              "      <td>0</td>\n",
              "      <td>0</td>\n",
              "      <td>0</td>\n",
              "      <td>0</td>\n",
              "      <td>0</td>\n",
              "      <td>0</td>\n",
              "      <td>1</td>\n",
              "      <td>0</td>\n",
              "      <td>1</td>\n",
              "      <td>0</td>\n",
              "    </tr>\n",
              "    <tr>\n",
              "      <th>4</th>\n",
              "      <td>6</td>\n",
              "      <td>31</td>\n",
              "      <td>78728</td>\n",
              "      <td>2</td>\n",
              "      <td>0</td>\n",
              "      <td>0.336986</td>\n",
              "      <td>0</td>\n",
              "      <td>1265000</td>\n",
              "      <td>1</td>\n",
              "      <td>0</td>\n",
              "      <td>0</td>\n",
              "      <td>0</td>\n",
              "      <td>1</td>\n",
              "      <td>0</td>\n",
              "      <td>0</td>\n",
              "      <td>0</td>\n",
              "      <td>0</td>\n",
              "      <td>0</td>\n",
              "      <td>0</td>\n",
              "      <td>0</td>\n",
              "      <td>0</td>\n",
              "      <td>0</td>\n",
              "      <td>0</td>\n",
              "      <td>0</td>\n",
              "      <td>0</td>\n",
              "      <td>0</td>\n",
              "      <td>0</td>\n",
              "      <td>0</td>\n",
              "      <td>0</td>\n",
              "      <td>0</td>\n",
              "      <td>0</td>\n",
              "      <td>0</td>\n",
              "      <td>0</td>\n",
              "      <td>0</td>\n",
              "      <td>0</td>\n",
              "      <td>0</td>\n",
              "      <td>0</td>\n",
              "      <td>0</td>\n",
              "      <td>0</td>\n",
              "      <td>1</td>\n",
              "      <td>0</td>\n",
              "      <td>0</td>\n",
              "    </tr>\n",
              "  </tbody>\n",
              "</table>\n",
              "</div>"
            ],
            "text/plain": [
              "   Emp_ID  Age  ...  Education_Level_College  Education_Level_Master\n",
              "0       1   28  ...                        0                       1\n",
              "1       2   31  ...                        0                       1\n",
              "2       4   43  ...                        0                       1\n",
              "3       5   29  ...                        1                       0\n",
              "4       6   31  ...                        0                       0\n",
              "\n",
              "[5 rows x 42 columns]"
            ]
          },
          "metadata": {},
          "execution_count": 14
        }
      ]
    },
    {
      "cell_type": "code",
      "metadata": {
        "colab": {
          "base_uri": "https://localhost:8080/",
          "height": 261
        },
        "id": "9eRW6l79Pjy7",
        "outputId": "d075fab7-0e51-42c8-fe45-378b125402f1"
      },
      "source": [
        "# Test dataset\n",
        "test = test.merge(train, on='Emp_ID')\n",
        "test = test.drop('Attrition',axis=1)\n",
        "test.head()"
      ],
      "execution_count": 15,
      "outputs": [
        {
          "output_type": "execute_result",
          "data": {
            "text/html": [
              "<div>\n",
              "<style scoped>\n",
              "    .dataframe tbody tr th:only-of-type {\n",
              "        vertical-align: middle;\n",
              "    }\n",
              "\n",
              "    .dataframe tbody tr th {\n",
              "        vertical-align: top;\n",
              "    }\n",
              "\n",
              "    .dataframe thead th {\n",
              "        text-align: right;\n",
              "    }\n",
              "</style>\n",
              "<table border=\"1\" class=\"dataframe\">\n",
              "  <thead>\n",
              "    <tr style=\"text-align: right;\">\n",
              "      <th></th>\n",
              "      <th>Emp_ID</th>\n",
              "      <th>Age</th>\n",
              "      <th>Salary</th>\n",
              "      <th>Quarterly Rating</th>\n",
              "      <th>Emp_Promotion</th>\n",
              "      <th>Emp_Experience</th>\n",
              "      <th>Total Business Value</th>\n",
              "      <th>Gender_Female</th>\n",
              "      <th>Gender_Male</th>\n",
              "      <th>City_C1</th>\n",
              "      <th>City_C10</th>\n",
              "      <th>City_C11</th>\n",
              "      <th>City_C12</th>\n",
              "      <th>City_C13</th>\n",
              "      <th>City_C14</th>\n",
              "      <th>City_C15</th>\n",
              "      <th>City_C16</th>\n",
              "      <th>City_C17</th>\n",
              "      <th>City_C18</th>\n",
              "      <th>City_C19</th>\n",
              "      <th>City_C2</th>\n",
              "      <th>City_C20</th>\n",
              "      <th>City_C21</th>\n",
              "      <th>City_C22</th>\n",
              "      <th>City_C23</th>\n",
              "      <th>City_C24</th>\n",
              "      <th>City_C25</th>\n",
              "      <th>City_C26</th>\n",
              "      <th>City_C27</th>\n",
              "      <th>City_C28</th>\n",
              "      <th>City_C29</th>\n",
              "      <th>City_C3</th>\n",
              "      <th>City_C4</th>\n",
              "      <th>City_C5</th>\n",
              "      <th>City_C6</th>\n",
              "      <th>City_C7</th>\n",
              "      <th>City_C8</th>\n",
              "      <th>City_C9</th>\n",
              "      <th>Education_Level_Bachelor</th>\n",
              "      <th>Education_Level_College</th>\n",
              "      <th>Education_Level_Master</th>\n",
              "    </tr>\n",
              "  </thead>\n",
              "  <tbody>\n",
              "    <tr>\n",
              "      <th>0</th>\n",
              "      <td>394</td>\n",
              "      <td>34</td>\n",
              "      <td>97722</td>\n",
              "      <td>3</td>\n",
              "      <td>2</td>\n",
              "      <td>6.493151</td>\n",
              "      <td>27458220</td>\n",
              "      <td>1</td>\n",
              "      <td>0</td>\n",
              "      <td>0</td>\n",
              "      <td>0</td>\n",
              "      <td>0</td>\n",
              "      <td>0</td>\n",
              "      <td>0</td>\n",
              "      <td>0</td>\n",
              "      <td>0</td>\n",
              "      <td>0</td>\n",
              "      <td>0</td>\n",
              "      <td>0</td>\n",
              "      <td>0</td>\n",
              "      <td>0</td>\n",
              "      <td>1</td>\n",
              "      <td>0</td>\n",
              "      <td>0</td>\n",
              "      <td>0</td>\n",
              "      <td>0</td>\n",
              "      <td>0</td>\n",
              "      <td>0</td>\n",
              "      <td>0</td>\n",
              "      <td>0</td>\n",
              "      <td>0</td>\n",
              "      <td>0</td>\n",
              "      <td>0</td>\n",
              "      <td>0</td>\n",
              "      <td>0</td>\n",
              "      <td>0</td>\n",
              "      <td>0</td>\n",
              "      <td>0</td>\n",
              "      <td>0</td>\n",
              "      <td>0</td>\n",
              "      <td>1</td>\n",
              "    </tr>\n",
              "    <tr>\n",
              "      <th>1</th>\n",
              "      <td>173</td>\n",
              "      <td>39</td>\n",
              "      <td>56174</td>\n",
              "      <td>3</td>\n",
              "      <td>2</td>\n",
              "      <td>6.473973</td>\n",
              "      <td>19866290</td>\n",
              "      <td>0</td>\n",
              "      <td>1</td>\n",
              "      <td>0</td>\n",
              "      <td>0</td>\n",
              "      <td>0</td>\n",
              "      <td>0</td>\n",
              "      <td>0</td>\n",
              "      <td>0</td>\n",
              "      <td>0</td>\n",
              "      <td>0</td>\n",
              "      <td>0</td>\n",
              "      <td>0</td>\n",
              "      <td>0</td>\n",
              "      <td>0</td>\n",
              "      <td>0</td>\n",
              "      <td>0</td>\n",
              "      <td>0</td>\n",
              "      <td>0</td>\n",
              "      <td>0</td>\n",
              "      <td>0</td>\n",
              "      <td>0</td>\n",
              "      <td>0</td>\n",
              "      <td>1</td>\n",
              "      <td>0</td>\n",
              "      <td>0</td>\n",
              "      <td>0</td>\n",
              "      <td>0</td>\n",
              "      <td>0</td>\n",
              "      <td>0</td>\n",
              "      <td>0</td>\n",
              "      <td>0</td>\n",
              "      <td>0</td>\n",
              "      <td>1</td>\n",
              "      <td>0</td>\n",
              "    </tr>\n",
              "    <tr>\n",
              "      <th>2</th>\n",
              "      <td>1090</td>\n",
              "      <td>39</td>\n",
              "      <td>96750</td>\n",
              "      <td>2</td>\n",
              "      <td>2</td>\n",
              "      <td>6.435616</td>\n",
              "      <td>50382490</td>\n",
              "      <td>0</td>\n",
              "      <td>1</td>\n",
              "      <td>0</td>\n",
              "      <td>0</td>\n",
              "      <td>0</td>\n",
              "      <td>0</td>\n",
              "      <td>1</td>\n",
              "      <td>0</td>\n",
              "      <td>0</td>\n",
              "      <td>0</td>\n",
              "      <td>0</td>\n",
              "      <td>0</td>\n",
              "      <td>0</td>\n",
              "      <td>0</td>\n",
              "      <td>0</td>\n",
              "      <td>0</td>\n",
              "      <td>0</td>\n",
              "      <td>0</td>\n",
              "      <td>0</td>\n",
              "      <td>0</td>\n",
              "      <td>0</td>\n",
              "      <td>0</td>\n",
              "      <td>0</td>\n",
              "      <td>0</td>\n",
              "      <td>0</td>\n",
              "      <td>0</td>\n",
              "      <td>0</td>\n",
              "      <td>0</td>\n",
              "      <td>0</td>\n",
              "      <td>0</td>\n",
              "      <td>0</td>\n",
              "      <td>0</td>\n",
              "      <td>1</td>\n",
              "      <td>0</td>\n",
              "    </tr>\n",
              "    <tr>\n",
              "      <th>3</th>\n",
              "      <td>840</td>\n",
              "      <td>40</td>\n",
              "      <td>88813</td>\n",
              "      <td>2</td>\n",
              "      <td>3</td>\n",
              "      <td>6.397260</td>\n",
              "      <td>17134040</td>\n",
              "      <td>1</td>\n",
              "      <td>0</td>\n",
              "      <td>0</td>\n",
              "      <td>0</td>\n",
              "      <td>0</td>\n",
              "      <td>0</td>\n",
              "      <td>0</td>\n",
              "      <td>0</td>\n",
              "      <td>0</td>\n",
              "      <td>0</td>\n",
              "      <td>0</td>\n",
              "      <td>0</td>\n",
              "      <td>0</td>\n",
              "      <td>0</td>\n",
              "      <td>0</td>\n",
              "      <td>0</td>\n",
              "      <td>0</td>\n",
              "      <td>0</td>\n",
              "      <td>0</td>\n",
              "      <td>0</td>\n",
              "      <td>0</td>\n",
              "      <td>0</td>\n",
              "      <td>0</td>\n",
              "      <td>0</td>\n",
              "      <td>0</td>\n",
              "      <td>0</td>\n",
              "      <td>0</td>\n",
              "      <td>0</td>\n",
              "      <td>0</td>\n",
              "      <td>1</td>\n",
              "      <td>0</td>\n",
              "      <td>0</td>\n",
              "      <td>1</td>\n",
              "      <td>0</td>\n",
              "    </tr>\n",
              "    <tr>\n",
              "      <th>4</th>\n",
              "      <td>308</td>\n",
              "      <td>32</td>\n",
              "      <td>188418</td>\n",
              "      <td>2</td>\n",
              "      <td>3</td>\n",
              "      <td>6.301370</td>\n",
              "      <td>58024490</td>\n",
              "      <td>0</td>\n",
              "      <td>1</td>\n",
              "      <td>0</td>\n",
              "      <td>0</td>\n",
              "      <td>0</td>\n",
              "      <td>0</td>\n",
              "      <td>0</td>\n",
              "      <td>0</td>\n",
              "      <td>0</td>\n",
              "      <td>0</td>\n",
              "      <td>0</td>\n",
              "      <td>0</td>\n",
              "      <td>0</td>\n",
              "      <td>0</td>\n",
              "      <td>0</td>\n",
              "      <td>0</td>\n",
              "      <td>0</td>\n",
              "      <td>0</td>\n",
              "      <td>0</td>\n",
              "      <td>0</td>\n",
              "      <td>0</td>\n",
              "      <td>0</td>\n",
              "      <td>0</td>\n",
              "      <td>0</td>\n",
              "      <td>0</td>\n",
              "      <td>0</td>\n",
              "      <td>1</td>\n",
              "      <td>0</td>\n",
              "      <td>0</td>\n",
              "      <td>0</td>\n",
              "      <td>0</td>\n",
              "      <td>0</td>\n",
              "      <td>0</td>\n",
              "      <td>1</td>\n",
              "    </tr>\n",
              "  </tbody>\n",
              "</table>\n",
              "</div>"
            ],
            "text/plain": [
              "   Emp_ID  Age  ...  Education_Level_College  Education_Level_Master\n",
              "0     394   34  ...                        0                       1\n",
              "1     173   39  ...                        1                       0\n",
              "2    1090   39  ...                        1                       0\n",
              "3     840   40  ...                        1                       0\n",
              "4     308   32  ...                        0                       1\n",
              "\n",
              "[5 rows x 41 columns]"
            ]
          },
          "metadata": {},
          "execution_count": 15
        }
      ]
    },
    {
      "cell_type": "code",
      "metadata": {
        "id": "LpuYkQCiRF2n"
      },
      "source": [
        "train_cleaned=train.drop('Emp_ID',axis=1) \n",
        "test_cleaned=test.drop('Emp_ID',axis=1)"
      ],
      "execution_count": 16,
      "outputs": []
    },
    {
      "cell_type": "code",
      "metadata": {
        "colab": {
          "base_uri": "https://localhost:8080/",
          "height": 261
        },
        "id": "guQ7tDIoULsX",
        "outputId": "4c85a79b-a37f-4a52-c0b3-e88cb44efc3d"
      },
      "source": [
        "# Model building\n",
        "train_cleaned.head()"
      ],
      "execution_count": 17,
      "outputs": [
        {
          "output_type": "execute_result",
          "data": {
            "text/html": [
              "<div>\n",
              "<style scoped>\n",
              "    .dataframe tbody tr th:only-of-type {\n",
              "        vertical-align: middle;\n",
              "    }\n",
              "\n",
              "    .dataframe tbody tr th {\n",
              "        vertical-align: top;\n",
              "    }\n",
              "\n",
              "    .dataframe thead th {\n",
              "        text-align: right;\n",
              "    }\n",
              "</style>\n",
              "<table border=\"1\" class=\"dataframe\">\n",
              "  <thead>\n",
              "    <tr style=\"text-align: right;\">\n",
              "      <th></th>\n",
              "      <th>Age</th>\n",
              "      <th>Salary</th>\n",
              "      <th>Quarterly Rating</th>\n",
              "      <th>Emp_Promotion</th>\n",
              "      <th>Emp_Experience</th>\n",
              "      <th>Attrition</th>\n",
              "      <th>Total Business Value</th>\n",
              "      <th>Gender_Female</th>\n",
              "      <th>Gender_Male</th>\n",
              "      <th>City_C1</th>\n",
              "      <th>City_C10</th>\n",
              "      <th>City_C11</th>\n",
              "      <th>City_C12</th>\n",
              "      <th>City_C13</th>\n",
              "      <th>City_C14</th>\n",
              "      <th>City_C15</th>\n",
              "      <th>City_C16</th>\n",
              "      <th>City_C17</th>\n",
              "      <th>City_C18</th>\n",
              "      <th>City_C19</th>\n",
              "      <th>City_C2</th>\n",
              "      <th>City_C20</th>\n",
              "      <th>City_C21</th>\n",
              "      <th>City_C22</th>\n",
              "      <th>City_C23</th>\n",
              "      <th>City_C24</th>\n",
              "      <th>City_C25</th>\n",
              "      <th>City_C26</th>\n",
              "      <th>City_C27</th>\n",
              "      <th>City_C28</th>\n",
              "      <th>City_C29</th>\n",
              "      <th>City_C3</th>\n",
              "      <th>City_C4</th>\n",
              "      <th>City_C5</th>\n",
              "      <th>City_C6</th>\n",
              "      <th>City_C7</th>\n",
              "      <th>City_C8</th>\n",
              "      <th>City_C9</th>\n",
              "      <th>Education_Level_Bachelor</th>\n",
              "      <th>Education_Level_College</th>\n",
              "      <th>Education_Level_Master</th>\n",
              "    </tr>\n",
              "  </thead>\n",
              "  <tbody>\n",
              "    <tr>\n",
              "      <th>0</th>\n",
              "      <td>28</td>\n",
              "      <td>57387</td>\n",
              "      <td>2</td>\n",
              "      <td>0</td>\n",
              "      <td>0.186301</td>\n",
              "      <td>1</td>\n",
              "      <td>1715580</td>\n",
              "      <td>0</td>\n",
              "      <td>1</td>\n",
              "      <td>0</td>\n",
              "      <td>0</td>\n",
              "      <td>0</td>\n",
              "      <td>0</td>\n",
              "      <td>0</td>\n",
              "      <td>0</td>\n",
              "      <td>0</td>\n",
              "      <td>0</td>\n",
              "      <td>0</td>\n",
              "      <td>0</td>\n",
              "      <td>0</td>\n",
              "      <td>0</td>\n",
              "      <td>0</td>\n",
              "      <td>0</td>\n",
              "      <td>0</td>\n",
              "      <td>1</td>\n",
              "      <td>0</td>\n",
              "      <td>0</td>\n",
              "      <td>0</td>\n",
              "      <td>0</td>\n",
              "      <td>0</td>\n",
              "      <td>0</td>\n",
              "      <td>0</td>\n",
              "      <td>0</td>\n",
              "      <td>0</td>\n",
              "      <td>0</td>\n",
              "      <td>0</td>\n",
              "      <td>0</td>\n",
              "      <td>0</td>\n",
              "      <td>0</td>\n",
              "      <td>0</td>\n",
              "      <td>1</td>\n",
              "    </tr>\n",
              "    <tr>\n",
              "      <th>1</th>\n",
              "      <td>31</td>\n",
              "      <td>67016</td>\n",
              "      <td>1</td>\n",
              "      <td>0</td>\n",
              "      <td>0.068493</td>\n",
              "      <td>0</td>\n",
              "      <td>0</td>\n",
              "      <td>0</td>\n",
              "      <td>1</td>\n",
              "      <td>0</td>\n",
              "      <td>0</td>\n",
              "      <td>0</td>\n",
              "      <td>0</td>\n",
              "      <td>0</td>\n",
              "      <td>0</td>\n",
              "      <td>0</td>\n",
              "      <td>0</td>\n",
              "      <td>0</td>\n",
              "      <td>0</td>\n",
              "      <td>0</td>\n",
              "      <td>0</td>\n",
              "      <td>0</td>\n",
              "      <td>0</td>\n",
              "      <td>0</td>\n",
              "      <td>0</td>\n",
              "      <td>0</td>\n",
              "      <td>0</td>\n",
              "      <td>0</td>\n",
              "      <td>0</td>\n",
              "      <td>0</td>\n",
              "      <td>0</td>\n",
              "      <td>0</td>\n",
              "      <td>0</td>\n",
              "      <td>0</td>\n",
              "      <td>0</td>\n",
              "      <td>1</td>\n",
              "      <td>0</td>\n",
              "      <td>0</td>\n",
              "      <td>0</td>\n",
              "      <td>0</td>\n",
              "      <td>1</td>\n",
              "    </tr>\n",
              "    <tr>\n",
              "      <th>2</th>\n",
              "      <td>43</td>\n",
              "      <td>65603</td>\n",
              "      <td>1</td>\n",
              "      <td>0</td>\n",
              "      <td>0.315068</td>\n",
              "      <td>1</td>\n",
              "      <td>350000</td>\n",
              "      <td>0</td>\n",
              "      <td>1</td>\n",
              "      <td>0</td>\n",
              "      <td>0</td>\n",
              "      <td>0</td>\n",
              "      <td>0</td>\n",
              "      <td>1</td>\n",
              "      <td>0</td>\n",
              "      <td>0</td>\n",
              "      <td>0</td>\n",
              "      <td>0</td>\n",
              "      <td>0</td>\n",
              "      <td>0</td>\n",
              "      <td>0</td>\n",
              "      <td>0</td>\n",
              "      <td>0</td>\n",
              "      <td>0</td>\n",
              "      <td>0</td>\n",
              "      <td>0</td>\n",
              "      <td>0</td>\n",
              "      <td>0</td>\n",
              "      <td>0</td>\n",
              "      <td>0</td>\n",
              "      <td>0</td>\n",
              "      <td>0</td>\n",
              "      <td>0</td>\n",
              "      <td>0</td>\n",
              "      <td>0</td>\n",
              "      <td>0</td>\n",
              "      <td>0</td>\n",
              "      <td>0</td>\n",
              "      <td>0</td>\n",
              "      <td>0</td>\n",
              "      <td>1</td>\n",
              "    </tr>\n",
              "    <tr>\n",
              "      <th>3</th>\n",
              "      <td>29</td>\n",
              "      <td>46368</td>\n",
              "      <td>1</td>\n",
              "      <td>0</td>\n",
              "      <td>0.142466</td>\n",
              "      <td>1</td>\n",
              "      <td>120360</td>\n",
              "      <td>0</td>\n",
              "      <td>1</td>\n",
              "      <td>0</td>\n",
              "      <td>0</td>\n",
              "      <td>0</td>\n",
              "      <td>0</td>\n",
              "      <td>0</td>\n",
              "      <td>0</td>\n",
              "      <td>0</td>\n",
              "      <td>0</td>\n",
              "      <td>0</td>\n",
              "      <td>0</td>\n",
              "      <td>0</td>\n",
              "      <td>0</td>\n",
              "      <td>0</td>\n",
              "      <td>0</td>\n",
              "      <td>0</td>\n",
              "      <td>0</td>\n",
              "      <td>0</td>\n",
              "      <td>0</td>\n",
              "      <td>0</td>\n",
              "      <td>0</td>\n",
              "      <td>0</td>\n",
              "      <td>0</td>\n",
              "      <td>0</td>\n",
              "      <td>0</td>\n",
              "      <td>0</td>\n",
              "      <td>0</td>\n",
              "      <td>0</td>\n",
              "      <td>0</td>\n",
              "      <td>1</td>\n",
              "      <td>0</td>\n",
              "      <td>1</td>\n",
              "      <td>0</td>\n",
              "    </tr>\n",
              "    <tr>\n",
              "      <th>4</th>\n",
              "      <td>31</td>\n",
              "      <td>78728</td>\n",
              "      <td>2</td>\n",
              "      <td>0</td>\n",
              "      <td>0.336986</td>\n",
              "      <td>0</td>\n",
              "      <td>1265000</td>\n",
              "      <td>1</td>\n",
              "      <td>0</td>\n",
              "      <td>0</td>\n",
              "      <td>0</td>\n",
              "      <td>1</td>\n",
              "      <td>0</td>\n",
              "      <td>0</td>\n",
              "      <td>0</td>\n",
              "      <td>0</td>\n",
              "      <td>0</td>\n",
              "      <td>0</td>\n",
              "      <td>0</td>\n",
              "      <td>0</td>\n",
              "      <td>0</td>\n",
              "      <td>0</td>\n",
              "      <td>0</td>\n",
              "      <td>0</td>\n",
              "      <td>0</td>\n",
              "      <td>0</td>\n",
              "      <td>0</td>\n",
              "      <td>0</td>\n",
              "      <td>0</td>\n",
              "      <td>0</td>\n",
              "      <td>0</td>\n",
              "      <td>0</td>\n",
              "      <td>0</td>\n",
              "      <td>0</td>\n",
              "      <td>0</td>\n",
              "      <td>0</td>\n",
              "      <td>0</td>\n",
              "      <td>0</td>\n",
              "      <td>1</td>\n",
              "      <td>0</td>\n",
              "      <td>0</td>\n",
              "    </tr>\n",
              "  </tbody>\n",
              "</table>\n",
              "</div>"
            ],
            "text/plain": [
              "   Age  Salary  ...  Education_Level_College  Education_Level_Master\n",
              "0   28   57387  ...                        0                       1\n",
              "1   31   67016  ...                        0                       1\n",
              "2   43   65603  ...                        0                       1\n",
              "3   29   46368  ...                        1                       0\n",
              "4   31   78728  ...                        0                       0\n",
              "\n",
              "[5 rows x 41 columns]"
            ]
          },
          "metadata": {},
          "execution_count": 17
        }
      ]
    },
    {
      "cell_type": "code",
      "metadata": {
        "id": "gT5TgMV8URLD"
      },
      "source": [
        "# Seperating independent and dependent variables\n",
        "y = train_cleaned['Attrition']\n",
        "X = train_cleaned.drop(['Attrition'], axis=1)"
      ],
      "execution_count": 18,
      "outputs": []
    },
    {
      "cell_type": "code",
      "metadata": {
        "id": "HK0ASCgfVPF7"
      },
      "source": [
        "# Creating the train and validation set\n",
        "X_train, X_valid, y_train, y_valid = train_test_split(X, y, random_state = 101, stratify=y, test_size=0.25)"
      ],
      "execution_count": 19,
      "outputs": []
    },
    {
      "cell_type": "code",
      "metadata": {
        "colab": {
          "base_uri": "https://localhost:8080/"
        },
        "id": "XgIm_G2fValv",
        "outputId": "95711c44-7fce-4021-b3f2-b1e5aff17ed3"
      },
      "source": [
        "# Distribution in training set\n",
        "y_train.value_counts(normalize=True)"
      ],
      "execution_count": 20,
      "outputs": [
        {
          "output_type": "execute_result",
          "data": {
            "text/plain": [
              "1    0.678431\n",
              "0    0.321569\n",
              "Name: Attrition, dtype: float64"
            ]
          },
          "metadata": {},
          "execution_count": 20
        }
      ]
    },
    {
      "cell_type": "code",
      "metadata": {
        "colab": {
          "base_uri": "https://localhost:8080/"
        },
        "id": "u0QrOeUcWCO4",
        "outputId": "f5f080fd-7f7d-4174-9267-a96702f8c626"
      },
      "source": [
        "# Distribution in validation set\n",
        "y_valid.value_counts(normalize=True)"
      ],
      "execution_count": 21,
      "outputs": [
        {
          "output_type": "execute_result",
          "data": {
            "text/plain": [
              "1    0.67953\n",
              "0    0.32047\n",
              "Name: Attrition, dtype: float64"
            ]
          },
          "metadata": {},
          "execution_count": 21
        }
      ]
    },
    {
      "cell_type": "code",
      "metadata": {
        "colab": {
          "base_uri": "https://localhost:8080/"
        },
        "id": "BrNCFumsWHCu",
        "outputId": "54f85ccf-9634-45f0-8f22-cc9311f9ac5b"
      },
      "source": [
        "# Shape of training set\n",
        "X_train.shape, y_train.shape"
      ],
      "execution_count": 22,
      "outputs": [
        {
          "output_type": "execute_result",
          "data": {
            "text/plain": [
              "((1785, 40), (1785,))"
            ]
          },
          "metadata": {},
          "execution_count": 22
        }
      ]
    },
    {
      "cell_type": "code",
      "metadata": {
        "colab": {
          "base_uri": "https://localhost:8080/"
        },
        "id": "NtduZjpAWHkI",
        "outputId": "163b4210-1549-4347-ab28-ade664c1e71d"
      },
      "source": [
        "# Shape of validation set\n",
        "X_valid.shape, y_valid.shape"
      ],
      "execution_count": 23,
      "outputs": [
        {
          "output_type": "execute_result",
          "data": {
            "text/plain": [
              "((596, 40), (596,))"
            ]
          },
          "metadata": {},
          "execution_count": 23
        }
      ]
    },
    {
      "cell_type": "code",
      "metadata": {
        "id": "WWOgKAIoWT4P"
      },
      "source": [
        "# Import required libraries\n",
        "from sklearn import tree\n",
        "from sklearn.tree import DecisionTreeClassifier\n",
        "from sklearn.metrics import accuracy_score, f1_score"
      ],
      "execution_count": 24,
      "outputs": []
    },
    {
      "cell_type": "code",
      "metadata": {
        "id": "-Rs7zkq-WeHr"
      },
      "source": [
        "# Creating the decision tree function\n",
        "dt = DecisionTreeClassifier(random_state=10)"
      ],
      "execution_count": 25,
      "outputs": []
    },
    {
      "cell_type": "code",
      "metadata": {
        "colab": {
          "base_uri": "https://localhost:8080/"
        },
        "id": "99yirQTNW04U",
        "outputId": "9fedd011-2669-4db3-d58e-ffaf40d43ef4"
      },
      "source": [
        "# Fitting the model\n",
        "dt.fit(X_train, y_train)"
      ],
      "execution_count": 26,
      "outputs": [
        {
          "output_type": "execute_result",
          "data": {
            "text/plain": [
              "DecisionTreeClassifier(random_state=10)"
            ]
          },
          "metadata": {},
          "execution_count": 26
        }
      ]
    },
    {
      "cell_type": "code",
      "metadata": {
        "id": "lQqsdDVjW3Sc"
      },
      "source": [
        "# Predictions \n",
        "train_predict = dt.predict(X_train)\n",
        "val_predict = dt.predict(X_valid)\n",
        "test_predict = dt.predict(test_cleaned)"
      ],
      "execution_count": 27,
      "outputs": []
    },
    {
      "cell_type": "code",
      "metadata": {
        "colab": {
          "base_uri": "https://localhost:8080/"
        },
        "id": "16_iPkjoW6YQ",
        "outputId": "db8fa944-1f03-49ac-ee52-878be1a4108c"
      },
      "source": [
        "# Accuracy\n",
        "acc_train=accuracy_score( y_train,train_predict)\n",
        "acc_val=accuracy_score(y_valid,val_predict)\n",
        "print('Training Accuracy: ', acc_train)\n",
        "print('Validation Accuracy: ', acc_val)"
      ],
      "execution_count": 28,
      "outputs": [
        {
          "output_type": "stream",
          "name": "stdout",
          "text": [
            "Training Accuracy:  1.0\n",
            "Validation Accuracy:  0.785234899328859\n"
          ]
        }
      ]
    },
    {
      "cell_type": "code",
      "metadata": {
        "colab": {
          "base_uri": "https://localhost:8080/"
        },
        "id": "HS2EILErXjm4",
        "outputId": "eacbddff-8088-4d02-ee37-5df67da2d9cd"
      },
      "source": [
        "# F1 score\n",
        "from sklearn.metrics import f1_score\n",
        "print('f1 score: ', f1_score(y_valid, val_predict))"
      ],
      "execution_count": 29,
      "outputs": [
        {
          "output_type": "stream",
          "name": "stdout",
          "text": [
            "f1 score:  0.8411910669975186\n"
          ]
        }
      ]
    },
    {
      "cell_type": "markdown",
      "metadata": {
        "id": "IdNQMmzzhboE"
      },
      "source": [
        "## Tuning"
      ]
    },
    {
      "cell_type": "code",
      "metadata": {
        "id": "nV-oxvgmg4Uz"
      },
      "source": [
        "train_score = []\n",
        "validation_score = []\n",
        "for depth in range(1,30):\n",
        "    dt = DecisionTreeClassifier(max_depth=depth, random_state=10)\n",
        "    dt.fit(X_train, y_train)\n",
        "\n",
        "    train_predict = dt.predict(X_train)\n",
        "    train_f1=f1_score(y_train, train_predict)\n",
        "    train_score.append(train_f1)\n",
        "\n",
        "    val_predict = dt.predict(X_valid)\n",
        "    val_f1=f1_score(y_valid, val_predict)\n",
        "    validation_score.append(val_f1)\n"
      ],
      "execution_count": 30,
      "outputs": []
    },
    {
      "cell_type": "code",
      "metadata": {
        "colab": {
          "base_uri": "https://localhost:8080/",
          "height": 958
        },
        "id": "80fV0kybg-0j",
        "outputId": "a131621d-d63e-4c0a-eb69-7cf03dce33ac"
      },
      "source": [
        "df = pd.DataFrame({'max_depth': range(1, 30), 'train_score': train_score, 'validation_score': validation_score})\n",
        "df"
      ],
      "execution_count": 31,
      "outputs": [
        {
          "output_type": "execute_result",
          "data": {
            "text/html": [
              "<div>\n",
              "<style scoped>\n",
              "    .dataframe tbody tr th:only-of-type {\n",
              "        vertical-align: middle;\n",
              "    }\n",
              "\n",
              "    .dataframe tbody tr th {\n",
              "        vertical-align: top;\n",
              "    }\n",
              "\n",
              "    .dataframe thead th {\n",
              "        text-align: right;\n",
              "    }\n",
              "</style>\n",
              "<table border=\"1\" class=\"dataframe\">\n",
              "  <thead>\n",
              "    <tr style=\"text-align: right;\">\n",
              "      <th></th>\n",
              "      <th>max_depth</th>\n",
              "      <th>train_score</th>\n",
              "      <th>validation_score</th>\n",
              "    </tr>\n",
              "  </thead>\n",
              "  <tbody>\n",
              "    <tr>\n",
              "      <th>0</th>\n",
              "      <td>1</td>\n",
              "      <td>0.852511</td>\n",
              "      <td>0.851986</td>\n",
              "    </tr>\n",
              "    <tr>\n",
              "      <th>1</th>\n",
              "      <td>2</td>\n",
              "      <td>0.863411</td>\n",
              "      <td>0.860000</td>\n",
              "    </tr>\n",
              "    <tr>\n",
              "      <th>2</th>\n",
              "      <td>3</td>\n",
              "      <td>0.883978</td>\n",
              "      <td>0.870478</td>\n",
              "    </tr>\n",
              "    <tr>\n",
              "      <th>3</th>\n",
              "      <td>4</td>\n",
              "      <td>0.890416</td>\n",
              "      <td>0.870929</td>\n",
              "    </tr>\n",
              "    <tr>\n",
              "      <th>4</th>\n",
              "      <td>5</td>\n",
              "      <td>0.904464</td>\n",
              "      <td>0.885246</td>\n",
              "    </tr>\n",
              "    <tr>\n",
              "      <th>5</th>\n",
              "      <td>6</td>\n",
              "      <td>0.914698</td>\n",
              "      <td>0.889952</td>\n",
              "    </tr>\n",
              "    <tr>\n",
              "      <th>6</th>\n",
              "      <td>7</td>\n",
              "      <td>0.925230</td>\n",
              "      <td>0.877527</td>\n",
              "    </tr>\n",
              "    <tr>\n",
              "      <th>7</th>\n",
              "      <td>8</td>\n",
              "      <td>0.941223</td>\n",
              "      <td>0.887574</td>\n",
              "    </tr>\n",
              "    <tr>\n",
              "      <th>8</th>\n",
              "      <td>9</td>\n",
              "      <td>0.947579</td>\n",
              "      <td>0.876351</td>\n",
              "    </tr>\n",
              "    <tr>\n",
              "      <th>9</th>\n",
              "      <td>10</td>\n",
              "      <td>0.960161</td>\n",
              "      <td>0.865060</td>\n",
              "    </tr>\n",
              "    <tr>\n",
              "      <th>10</th>\n",
              "      <td>11</td>\n",
              "      <td>0.967611</td>\n",
              "      <td>0.849817</td>\n",
              "    </tr>\n",
              "    <tr>\n",
              "      <th>11</th>\n",
              "      <td>12</td>\n",
              "      <td>0.976045</td>\n",
              "      <td>0.852259</td>\n",
              "    </tr>\n",
              "    <tr>\n",
              "      <th>12</th>\n",
              "      <td>13</td>\n",
              "      <td>0.982143</td>\n",
              "      <td>0.839901</td>\n",
              "    </tr>\n",
              "    <tr>\n",
              "      <th>13</th>\n",
              "      <td>14</td>\n",
              "      <td>0.985685</td>\n",
              "      <td>0.839506</td>\n",
              "    </tr>\n",
              "    <tr>\n",
              "      <th>14</th>\n",
              "      <td>15</td>\n",
              "      <td>0.990156</td>\n",
              "      <td>0.836862</td>\n",
              "    </tr>\n",
              "    <tr>\n",
              "      <th>15</th>\n",
              "      <td>16</td>\n",
              "      <td>0.993432</td>\n",
              "      <td>0.834586</td>\n",
              "    </tr>\n",
              "    <tr>\n",
              "      <th>16</th>\n",
              "      <td>17</td>\n",
              "      <td>0.995066</td>\n",
              "      <td>0.833333</td>\n",
              "    </tr>\n",
              "    <tr>\n",
              "      <th>17</th>\n",
              "      <td>18</td>\n",
              "      <td>0.996705</td>\n",
              "      <td>0.832500</td>\n",
              "    </tr>\n",
              "    <tr>\n",
              "      <th>18</th>\n",
              "      <td>19</td>\n",
              "      <td>0.997940</td>\n",
              "      <td>0.833333</td>\n",
              "    </tr>\n",
              "    <tr>\n",
              "      <th>19</th>\n",
              "      <td>20</td>\n",
              "      <td>0.998763</td>\n",
              "      <td>0.831461</td>\n",
              "    </tr>\n",
              "    <tr>\n",
              "      <th>20</th>\n",
              "      <td>21</td>\n",
              "      <td>0.998762</td>\n",
              "      <td>0.828358</td>\n",
              "    </tr>\n",
              "    <tr>\n",
              "      <th>21</th>\n",
              "      <td>22</td>\n",
              "      <td>0.999174</td>\n",
              "      <td>0.833333</td>\n",
              "    </tr>\n",
              "    <tr>\n",
              "      <th>22</th>\n",
              "      <td>23</td>\n",
              "      <td>0.999587</td>\n",
              "      <td>0.831461</td>\n",
              "    </tr>\n",
              "    <tr>\n",
              "      <th>23</th>\n",
              "      <td>24</td>\n",
              "      <td>1.000000</td>\n",
              "      <td>0.841191</td>\n",
              "    </tr>\n",
              "    <tr>\n",
              "      <th>24</th>\n",
              "      <td>25</td>\n",
              "      <td>1.000000</td>\n",
              "      <td>0.841191</td>\n",
              "    </tr>\n",
              "    <tr>\n",
              "      <th>25</th>\n",
              "      <td>26</td>\n",
              "      <td>1.000000</td>\n",
              "      <td>0.841191</td>\n",
              "    </tr>\n",
              "    <tr>\n",
              "      <th>26</th>\n",
              "      <td>27</td>\n",
              "      <td>1.000000</td>\n",
              "      <td>0.841191</td>\n",
              "    </tr>\n",
              "    <tr>\n",
              "      <th>27</th>\n",
              "      <td>28</td>\n",
              "      <td>1.000000</td>\n",
              "      <td>0.841191</td>\n",
              "    </tr>\n",
              "    <tr>\n",
              "      <th>28</th>\n",
              "      <td>29</td>\n",
              "      <td>1.000000</td>\n",
              "      <td>0.841191</td>\n",
              "    </tr>\n",
              "  </tbody>\n",
              "</table>\n",
              "</div>"
            ],
            "text/plain": [
              "    max_depth  train_score  validation_score\n",
              "0           1     0.852511          0.851986\n",
              "1           2     0.863411          0.860000\n",
              "2           3     0.883978          0.870478\n",
              "3           4     0.890416          0.870929\n",
              "4           5     0.904464          0.885246\n",
              "5           6     0.914698          0.889952\n",
              "6           7     0.925230          0.877527\n",
              "7           8     0.941223          0.887574\n",
              "8           9     0.947579          0.876351\n",
              "9          10     0.960161          0.865060\n",
              "10         11     0.967611          0.849817\n",
              "11         12     0.976045          0.852259\n",
              "12         13     0.982143          0.839901\n",
              "13         14     0.985685          0.839506\n",
              "14         15     0.990156          0.836862\n",
              "15         16     0.993432          0.834586\n",
              "16         17     0.995066          0.833333\n",
              "17         18     0.996705          0.832500\n",
              "18         19     0.997940          0.833333\n",
              "19         20     0.998763          0.831461\n",
              "20         21     0.998762          0.828358\n",
              "21         22     0.999174          0.833333\n",
              "22         23     0.999587          0.831461\n",
              "23         24     1.000000          0.841191\n",
              "24         25     1.000000          0.841191\n",
              "25         26     1.000000          0.841191\n",
              "26         27     1.000000          0.841191\n",
              "27         28     1.000000          0.841191\n",
              "28         29     1.000000          0.841191"
            ]
          },
          "metadata": {},
          "execution_count": 31
        }
      ]
    },
    {
      "cell_type": "code",
      "metadata": {
        "colab": {
          "base_uri": "https://localhost:8080/",
          "height": 284
        },
        "id": "VYfH6bwemRAR",
        "outputId": "d33faf4a-a1ef-49ce-ae1f-b908b798e56c"
      },
      "source": [
        "import matplotlib.pyplot as plt\n",
        "\n",
        "plt.figure()\n",
        "plt.plot(df['max_depth'], df['train_score'], marker = 'o', label = 'Train')\n",
        "plt.plot(df['max_depth'], df['validation_score'], marker = 'o', label = 'Validation')\n",
        "plt.legend()"
      ],
      "execution_count": 32,
      "outputs": [
        {
          "output_type": "execute_result",
          "data": {
            "text/plain": [
              "<matplotlib.legend.Legend at 0x7f14202fb250>"
            ]
          },
          "metadata": {},
          "execution_count": 32
        },
        {
          "output_type": "display_data",
          "data": {
            "image/png": "[encoded data removed]",
            "text/plain": [
              "<Figure size 432x288 with 1 Axes>"
            ]
          },
          "metadata": {
            "needs_background": "light"
          }
        }
      ]
    },
    {
      "cell_type": "code",
      "metadata": {
        "id": "9nUYyuVUpijc"
      },
      "source": [
        "from sklearn.model_selection import GridSearchCV, RandomizedSearchCV\n",
        "\n",
        "parameter_grid = {'max_depth': [6, 7, 8, 9], \n",
        "          'min_samples_split': range(2, 50, 5), \n",
        "          'criterion': ['gini', 'entropy'],\n",
        "         'max_leaf_nodes': range(2, 50, 5)}\n",
        "\n",
        "gridsearch = GridSearchCV(estimator=dt, \n",
        "                          param_grid=parameter_grid,scoring = f1_score, \n",
        "                          cv=5)"
      ],
      "execution_count": 33,
      "outputs": []
    },
    {
      "cell_type": "code",
      "metadata": {
        "colab": {
          "base_uri": "https://localhost:8080/"
        },
        "id": "esA5OVVjp4gT",
        "outputId": "5bc80bcd-10a9-47de-c203-73d2c0bc7d90"
      },
      "source": [
        "gridsearch.fit(X_train, y_train)"
      ],
      "execution_count": 34,
      "outputs": [
        {
          "output_type": "execute_result",
          "data": {
            "text/plain": [
              "GridSearchCV(cv=5,\n",
              "             estimator=DecisionTreeClassifier(max_depth=29, random_state=10),\n",
              "             param_grid={'criterion': ['gini', 'entropy'],\n",
              "                         'max_depth': [6, 7, 8, 9],\n",
              "                         'max_leaf_nodes': range(2, 50, 5),\n",
              "                         'min_samples_split': range(2, 50, 5)},\n",
              "             scoring=<function f1_score at 0x7f14250b4200>)"
            ]
          },
          "metadata": {},
          "execution_count": 34
        }
      ]
    },
    {
      "cell_type": "code",
      "metadata": {
        "colab": {
          "base_uri": "https://localhost:8080/"
        },
        "id": "Q1_9Al4Iq26B",
        "outputId": "c2c37324-b5f3-4583-e839-384781425f6f"
      },
      "source": [
        "gridsearch.best_params_"
      ],
      "execution_count": 35,
      "outputs": [
        {
          "output_type": "execute_result",
          "data": {
            "text/plain": [
              "{'criterion': 'gini',\n",
              " 'max_depth': 6,\n",
              " 'max_leaf_nodes': 2,\n",
              " 'min_samples_split': 2}"
            ]
          },
          "metadata": {},
          "execution_count": 35
        }
      ]
    },
    {
      "cell_type": "code",
      "metadata": {
        "colab": {
          "base_uri": "https://localhost:8080/"
        },
        "id": "HfUV4BJPq6QG",
        "outputId": "b8e9cf29-ff92-402a-90e3-1d07aebe1509"
      },
      "source": [
        "gridsearch.best_estimator_"
      ],
      "execution_count": 36,
      "outputs": [
        {
          "output_type": "execute_result",
          "data": {
            "text/plain": [
              "DecisionTreeClassifier(max_depth=6, max_leaf_nodes=2, random_state=10)"
            ]
          },
          "metadata": {},
          "execution_count": 36
        }
      ]
    },
    {
      "cell_type": "markdown",
      "metadata": {
        "id": "gizrfYzMrl3A"
      },
      "source": [
        "## Creating a decision tree instance with new hyperparameter values"
      ]
    },
    {
      "cell_type": "code",
      "metadata": {
        "id": "oJ7TynO6rEQp"
      },
      "source": [
        "# Creating the decision tree function\n",
        "dt=gridsearch.best_estimator_"
      ],
      "execution_count": 37,
      "outputs": []
    },
    {
      "cell_type": "code",
      "metadata": {
        "id": "9Jf2oYbrrtY-",
        "colab": {
          "base_uri": "https://localhost:8080/"
        },
        "outputId": "1b8aac17-026f-4558-b6b5-2cf945802dc5"
      },
      "source": [
        "# Fitting the model\n",
        "dt.fit(X_train, y_train)"
      ],
      "execution_count": 38,
      "outputs": [
        {
          "output_type": "execute_result",
          "data": {
            "text/plain": [
              "DecisionTreeClassifier(max_depth=6, max_leaf_nodes=2, random_state=10)"
            ]
          },
          "metadata": {},
          "execution_count": 38
        }
      ]
    },
    {
      "cell_type": "code",
      "metadata": {
        "id": "oXQuEt_7r1Sa"
      },
      "source": [
        "# Predictions \n",
        "train_predict = dt.predict(X_train)\n",
        "val_predict = dt.predict(X_valid)\n",
        "test_predict = dt.predict(test_cleaned)"
      ],
      "execution_count": 39,
      "outputs": []
    },
    {
      "cell_type": "code",
      "metadata": {
        "id": "6kWQGu0TsWAA",
        "colab": {
          "base_uri": "https://localhost:8080/"
        },
        "outputId": "6db78418-66c1-4fc9-90e0-4089c2b9897f"
      },
      "source": [
        "# Accuracy\n",
        "acc_train=accuracy_score( y_train,train_predict)\n",
        "acc_val=accuracy_score(y_valid,val_predict)\n",
        "print('Training Accuracy: ', acc_train)\n",
        "print('Validation Accuracy: ', acc_val)"
      ],
      "execution_count": 40,
      "outputs": [
        {
          "output_type": "stream",
          "name": "stdout",
          "text": [
            "Training Accuracy:  0.7910364145658263\n",
            "Validation Accuracy:  0.7936241610738255\n"
          ]
        }
      ]
    },
    {
      "cell_type": "code",
      "metadata": {
        "id": "Dp4O8yaEsYye",
        "colab": {
          "base_uri": "https://localhost:8080/"
        },
        "outputId": "c929465a-ecae-4482-a6f1-f2f0cbfcff6e"
      },
      "source": [
        "# F1 score\n",
        "from sklearn.metrics import f1_score\n",
        "print('f1 score: ', f1_score(y_valid, val_predict))"
      ],
      "execution_count": 41,
      "outputs": [
        {
          "output_type": "stream",
          "name": "stdout",
          "text": [
            "f1 score:  0.8519855595667871\n"
          ]
        }
      ]
    },
    {
      "cell_type": "code",
      "metadata": {
        "id": "y9X7wacusebq",
        "colab": {
          "base_uri": "https://localhost:8080/",
          "height": 363
        },
        "outputId": "de151a72-fbbd-4917-a0a6-bf73ca863b06"
      },
      "source": [
        "TEST=pd.read_csv(\"test_hXY9mYw.csv\")\n",
        "TEST['Target'] = test_predict\n",
        "TEST.head(10)"
      ],
      "execution_count": 42,
      "outputs": [
        {
          "output_type": "execute_result",
          "data": {
            "text/html": [
              "<div>\n",
              "<style scoped>\n",
              "    .dataframe tbody tr th:only-of-type {\n",
              "        vertical-align: middle;\n",
              "    }\n",
              "\n",
              "    .dataframe tbody tr th {\n",
              "        vertical-align: top;\n",
              "    }\n",
              "\n",
              "    .dataframe thead th {\n",
              "        text-align: right;\n",
              "    }\n",
              "</style>\n",
              "<table border=\"1\" class=\"dataframe\">\n",
              "  <thead>\n",
              "    <tr style=\"text-align: right;\">\n",
              "      <th></th>\n",
              "      <th>Emp_ID</th>\n",
              "      <th>Target</th>\n",
              "    </tr>\n",
              "  </thead>\n",
              "  <tbody>\n",
              "    <tr>\n",
              "      <th>0</th>\n",
              "      <td>394</td>\n",
              "      <td>0</td>\n",
              "    </tr>\n",
              "    <tr>\n",
              "      <th>1</th>\n",
              "      <td>173</td>\n",
              "      <td>0</td>\n",
              "    </tr>\n",
              "    <tr>\n",
              "      <th>2</th>\n",
              "      <td>1090</td>\n",
              "      <td>0</td>\n",
              "    </tr>\n",
              "    <tr>\n",
              "      <th>3</th>\n",
              "      <td>840</td>\n",
              "      <td>0</td>\n",
              "    </tr>\n",
              "    <tr>\n",
              "      <th>4</th>\n",
              "      <td>308</td>\n",
              "      <td>0</td>\n",
              "    </tr>\n",
              "    <tr>\n",
              "      <th>5</th>\n",
              "      <td>1864</td>\n",
              "      <td>0</td>\n",
              "    </tr>\n",
              "    <tr>\n",
              "      <th>6</th>\n",
              "      <td>1606</td>\n",
              "      <td>0</td>\n",
              "    </tr>\n",
              "    <tr>\n",
              "      <th>7</th>\n",
              "      <td>954</td>\n",
              "      <td>0</td>\n",
              "    </tr>\n",
              "    <tr>\n",
              "      <th>8</th>\n",
              "      <td>2422</td>\n",
              "      <td>0</td>\n",
              "    </tr>\n",
              "    <tr>\n",
              "      <th>9</th>\n",
              "      <td>1841</td>\n",
              "      <td>0</td>\n",
              "    </tr>\n",
              "  </tbody>\n",
              "</table>\n",
              "</div>"
            ],
            "text/plain": [
              "   Emp_ID  Target\n",
              "0     394       0\n",
              "1     173       0\n",
              "2    1090       0\n",
              "3     840       0\n",
              "4     308       0\n",
              "5    1864       0\n",
              "6    1606       0\n",
              "7     954       0\n",
              "8    2422       0\n",
              "9    1841       0"
            ]
          },
          "metadata": {},
          "execution_count": 42
        }
      ]
    },
    {
      "cell_type": "code",
      "metadata": {
        "id": "uewvvqnxsktH"
      },
      "source": [
        "# Converting to csv format\n",
        "TEST.to_csv('DanielTrial2jobathonnov2021.csv',index=False)"
      ],
      "execution_count": 43,
      "outputs": []
    }
  ]
}